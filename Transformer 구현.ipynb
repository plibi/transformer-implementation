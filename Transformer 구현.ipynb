{
 "cells": [
  {
   "cell_type": "markdown",
   "id": "3011177c",
   "metadata": {},
   "source": [
    "# Transformer 구현\n",
    " - [딥 러닝을 이용한 자연어 처리 입문](https://wikidocs.net/31379)\n",
    " - https://github.com/NLP-kr/tensorflow-ml-nlp-tf2/blob/master/6.CHATBOT/6.5.transformer.ipynb"
   ]
  },
  {
   "cell_type": "code",
   "execution_count": 1,
   "id": "525cb62f",
   "metadata": {
    "ExecuteTime": {
     "end_time": "2023-03-17T10:29:52.641310Z",
     "start_time": "2023-03-17T10:29:44.229390Z"
    }
   },
   "outputs": [],
   "source": [
    "import numpy as np\n",
    "import tensorflow as tf\n",
    "import matplotlib.pyplot as plt"
   ]
  },
  {
   "cell_type": "markdown",
   "id": "74f6153a",
   "metadata": {},
   "source": [
    "### Positional Encoding\n",
    " - RNN과 달리 트랜스포머의 입력은 단어 하나하나 순차적으로 넣지 않고 한번에 넣어준다 (행렬와 같이)\n",
    " - 따라서 입력에 순서 정보를 넣어줄 필요성이 있음\n",
    " - => 각 단어의 임베딩 벡터에 위치 정보들을 더해 모델의 입력으로 사용\n",
    " - => **입력 행렬**과 같은 크기의 **포지셔널 인코딩 행렬을 더해준다**\n",
    " - Positional Encoding\n",
    "  - $PE_{(pos, 2i)} = sin(\\frac{pos}{10000^{2i/d_{model}}})$\n",
    "  - $PE_{(pos, 2i+1)} = cos(\\frac{pos}{10000^{2i/d_{model}}})$\n",
    " - (참고) positional encoding에 대한 설명 [(링크)](https://gaussian37.github.io/dl-concept-positional_encoding/) 또는 [(여기)](https://www.blossominkyung.com/deeplearning/transfomer-positional-encoding)"
   ]
  },
  {
   "cell_type": "code",
   "execution_count": 2,
   "id": "cd76fb5d",
   "metadata": {
    "ExecuteTime": {
     "end_time": "2023-03-06T14:25:18.149583Z",
     "start_time": "2023-03-06T14:25:18.135592Z"
    }
   },
   "outputs": [],
   "source": [
    "# pos: 입력 문장의 길이\n",
    "# d_model: 임베딩 벡터의 차원\n",
    "def get_angles(pos, i, d_model):\n",
    "    angles = 1 / np.power(10000, (2 * i//2) / np.float32(d_model))\n",
    "    return pos * angles\n",
    "\n",
    "def positional_encoding(position, d_model):\n",
    "    angle_rads = get_angles(\n",
    "        np.arange(position)[:, np.newaxis],    \n",
    "        np.arange(d_model)[np.newaxis, :],\n",
    "        d_model)\n",
    "    \n",
    "    angle_rads[:, 0::2] = np.sin(angle_rads[:, 0::2])\n",
    "    angle_rads[:, 1::2] = np.cos(angle_rads[:, 1::2])\n",
    "    \n",
    "    pos_encoding = angle_rads[np.newaxis, ...]\n",
    "        \n",
    "    return tf.cast(pos_encoding, dtype=tf.float32)"
   ]
  },
  {
   "cell_type": "code",
   "execution_count": 3,
   "id": "300e9105",
   "metadata": {
    "ExecuteTime": {
     "end_time": "2023-03-06T14:25:18.165512Z",
     "start_time": "2023-03-06T14:25:18.150553Z"
    }
   },
   "outputs": [
    {
     "data": {
      "text/plain": [
       "array([[ 0,  1,  2,  3,  4,  5,  6,  7,  8,  9, 10, 11, 12, 13, 14, 15,\n",
       "        16, 17, 18, 19, 20, 21, 22, 23, 24, 25, 26, 27, 28, 29, 30, 31,\n",
       "        32, 33, 34, 35, 36, 37, 38, 39]])"
      ]
     },
     "execution_count": 3,
     "metadata": {},
     "output_type": "execute_result"
    }
   ],
   "source": [
    "position = 40\n",
    "np.arange(position)[np.newaxis, :]"
   ]
  },
  {
   "cell_type": "code",
   "execution_count": 4,
   "id": "423e2e0f",
   "metadata": {
    "ExecuteTime": {
     "end_time": "2023-03-06T14:25:21.474117Z",
     "start_time": "2023-03-06T14:25:18.169502Z"
    }
   },
   "outputs": [
    {
     "name": "stdout",
     "output_type": "stream",
     "text": [
      "(1, 50, 512)\n"
     ]
    },
    {
     "data": {
      "image/png": "[encoded data removed]",
      "text/plain": [
       "<Figure size 432x288 with 2 Axes>"
      ]
     },
     "metadata": {
      "needs_background": "light"
     },
     "output_type": "display_data"
    }
   ],
   "source": [
    "# positional encoding 테스트\n",
    "pos = 50\n",
    "d_model = 512\n",
    "pos_encoding = positional_encoding(pos, d_model)\n",
    "print(pos_encoding.shape)\n",
    "\n",
    "plt.pcolormesh(pos_encoding[0], cmap='RdBu')\n",
    "plt.xlabel('Depth')\n",
    "plt.xlim((0, 512))\n",
    "plt.ylabel('Position')\n",
    "plt.colorbar()\n",
    "plt.show()"
   ]
  },
  {
   "cell_type": "code",
   "execution_count": 5,
   "id": "936b4038",
   "metadata": {
    "ExecuteTime": {
     "end_time": "2023-03-06T14:25:21.489727Z",
     "start_time": "2023-03-06T14:25:21.475114Z"
    }
   },
   "outputs": [],
   "source": [
    "# pos: 입력 문장의 길이\n",
    "# d_model: 임베딩 벡터의 차원\n",
    "class PositionalEncoding(tf.keras.layers.Layer):\n",
    "    '''\n",
    "    문장 행렬의 크기와 같은 pos_encoding 행렬을 만들어준 뒤 \n",
    "    call부분에서 inputs에 pos_encoding행렬을 더해준다.\n",
    "    \n",
    "    Return:\n",
    "    inputs + pos_encoding\n",
    "    \n",
    "    '''\n",
    "    def __init__(self, position, d_model):\n",
    "        super(PositionalEncoding, self).__init__()\n",
    "        self.pos_encoding = self.positional_encoding(position, d_model)\n",
    "    \n",
    "    def get_angles(self, pos, i, d_model):\n",
    "        angles = 1 / np.power(10000, (2 * i//2) / np.float32(d_model))\n",
    "        return pos * angles\n",
    "    \n",
    "    def positional_encoding(self, position, d_model):\n",
    "        angle_rads = get_angles(\n",
    "            pos=np.arange(position)[:, np.newaxis],\n",
    "            i=np.arange(d_model)[np.newaxis, :],\n",
    "            d_model=d_model)\n",
    "        '''\n",
    "        get_angles의 입력으로\n",
    "        pos => (seq_len, 1)\n",
    "        i => (1, embd_i)로 차원을 늘려준 뒤 전달하면 브로드캐스팅을 통해\n",
    "        (seq_len, embd_i)크기를 가진 pos_encoding 행렬을 만들어줄 수 있다\n",
    "        '''\n",
    "        \n",
    "        angle_rads[:, 0::2] = np.sin(angle_rads[:, 0::2])\n",
    "        angle_rads[:, 1::2] = np.cos(angle_rads[:, 1::2])\n",
    "        \n",
    "        pos_encoding = angle_rads[np.newaxis, ...]\n",
    "        \n",
    "        return tf.cast(pos_encoding, dtype=tf.float32)\n",
    "    \n",
    "    # Input에 포지셔널 인코딩 행렬을 더해준다.\n",
    "    def call(self, inputs):\n",
    "        return inputs + self.pos_encoding[:, :tf.shape(inputs)[1], :]"
   ]
  },
  {
   "cell_type": "markdown",
   "id": "a64cbd08",
   "metadata": {},
   "source": [
    "### Scaled Dot Product Attention\n",
    " - $Attention(Q, K, V) = softmax(\\frac{QK^T}{\\sqrt{d_k}})V$"
   ]
  },
  {
   "cell_type": "code",
   "execution_count": 6,
   "id": "44f8c9f6",
   "metadata": {
    "ExecuteTime": {
     "end_time": "2023-03-06T14:25:21.504520Z",
     "start_time": "2023-03-06T14:25:21.492719Z"
    }
   },
   "outputs": [],
   "source": [
    "def scaledDotProductAttention(query, key, value, mask):\n",
    "    '''\n",
    "    Scaled dot product attention을 계산하는 함수\n",
    "    \n",
    "    Args:\n",
    "    query, key, value, mask\n",
    "    query: query의 shape = (batch_size, num_heads, query의 문장길이, d_model/num_head),\n",
    "    key:   key의   shape = (batch_size, num_heads, key의 문장길이, d_model/num_head),\n",
    "    value: value의 shape = (batch_size, num_heads, value의 문장길이, d_model/num_head),\n",
    "    mask:  padding mask = (batch_size, 1, 1, key의 문장길이)\n",
    "    \n",
    "    d_model/num_head => d_k\n",
    "    이 함수에서 받는 query의 shape는 (query의 문장길이, d_k)\n",
    "     \n",
    "    Returns:\n",
    "    output, attetion_weights\n",
    "    '''\n",
    "    \n",
    "    # 어텐션 스코어, Q와 K의 dot product\n",
    "    qk = tf.matmul(query, key, transpose_b=True)\n",
    "    \n",
    "    # 스케일링 (sqrt(dk)로 나눔)\n",
    "    # dk = d_model / num_head\n",
    "    scale = tf.cast(tf.shape(key)[-1], tf.float32)\n",
    "    logits = qk / tf.math.sqrt(scale)\n",
    "    \n",
    "    # 마스킹\n",
    "    if mask is not None:\n",
    "        logits += (mask * -1e9)\n",
    "        \n",
    "    # 어텐션 weights\n",
    "    attention_weights = tf.nn.softmax(logits, axis=-1)\n",
    "    \n",
    "    # output: (batch_size, num_heads, query 문장길이, d_k)\n",
    "    output = tf.matmul(attention_weights, value)\n",
    "    \n",
    "    return output, attention_weights"
   ]
  },
  {
   "cell_type": "code",
   "execution_count": 7,
   "id": "b85c4cd4",
   "metadata": {
    "ExecuteTime": {
     "end_time": "2023-03-06T14:25:22.686804Z",
     "start_time": "2023-03-06T14:25:21.506518Z"
    }
   },
   "outputs": [
    {
     "name": "stdout",
     "output_type": "stream",
     "text": [
      "tf.Tensor([[0. 1. 0. 0.]], shape=(1, 4), dtype=float32)\n",
      "tf.Tensor([[10.  0.]], shape=(1, 2), dtype=float32)\n",
      "\n",
      "tf.Tensor([[0.  0.  0.5 0.5]], shape=(1, 4), dtype=float32)\n",
      "tf.Tensor([[550.    5.5]], shape=(1, 2), dtype=float32)\n",
      "\n",
      "tf.Tensor(\n",
      "[[0.  0.  0.5 0.5]\n",
      " [0.  1.  0.  0. ]\n",
      " [0.5 0.5 0.  0. ]], shape=(3, 4), dtype=float32)\n",
      "tf.Tensor(\n",
      "[[550.    5.5]\n",
      " [ 10.    0. ]\n",
      " [  5.5   0. ]], shape=(3, 2), dtype=float32)\n"
     ]
    }
   ],
   "source": [
    "# 함수테스트\n",
    "# 임의의 q, k, v 행렬 생성\n",
    "np.set_printoptions(suppress=True)\n",
    "temp_k = tf.constant([[10, 0, 0],\n",
    "                      [0, 10, 0],\n",
    "                      [0, 0, 10],\n",
    "                      [0, 0, 10]], dtype=tf.float32)   # (4, 3)\n",
    "temp_v = tf.constant([[1, 0], \n",
    "                      [10, 0],\n",
    "                      [100, 5],\n",
    "                      [1000, 6]], dtype=tf.float32)    # (4, 2)\n",
    "\n",
    "temp_q = tf.constant([[0, 10, 0]], dtype=tf.float32)    # (1, 3)\n",
    "\n",
    "temp_out, temp_attn_weight = scaledDotProductAttention(temp_q, temp_k, temp_v, None)\n",
    "print(temp_attn_weight)\n",
    "print(temp_out)\n",
    "print()\n",
    "\n",
    "temp_q = tf.constant([[0, 0, 10]], dtype=tf.float32)\n",
    "temp_out, temp_attn_weight = scaledDotProductAttention(temp_q, temp_k, temp_v, None)\n",
    "print(temp_attn_weight)\n",
    "print(temp_out)\n",
    "print()\n",
    "\n",
    "temp_q = tf.constant([[0, 0, 10], [0, 10, 0], [10, 10, 0]], dtype=tf.float32)  # (3, 3)\n",
    "temp_out, temp_attn_weight = scaledDotProductAttention(temp_q, temp_k, temp_v, None)\n",
    "print(temp_attn_weight) \n",
    "print(temp_out)"
   ]
  },
  {
   "cell_type": "markdown",
   "id": "a2fb7ab7",
   "metadata": {},
   "source": [
    "### Multihead Attention"
   ]
  },
  {
   "cell_type": "code",
   "execution_count": 8,
   "id": "5463354f",
   "metadata": {
    "ExecuteTime": {
     "end_time": "2023-03-06T14:25:22.701531Z",
     "start_time": "2023-03-06T14:25:22.687801Z"
    }
   },
   "outputs": [],
   "source": [
    "class MultiHeadAttention(tf.keras.layers.Layer):\n",
    "    def __init__(self, d_model, num_heads, name='multi_head_attention'):\n",
    "        super(MultiHeadAttention, self).__init__(name=name)\n",
    "        self.d_model = d_model\n",
    "        self.num_heads = num_heads\n",
    "        \n",
    "        assert self.d_model % self.num_heads == 0    # d_k는 나머지가 0이어야 한다\n",
    "        \n",
    "        # depth = d_model // num_heads (논문기준 64 = 512 // 8)\n",
    "        # deqth == d_k\n",
    "        self.depth = self.d_model // self.num_heads\n",
    "        \n",
    "        # WQ, WK, WV 정의\n",
    "        # 문장행렬에 WQ, WK, WV가 곱해져 Q, K, V가 만들어진다\n",
    "        self.wq = tf.keras.layers.Dense(d_model)\n",
    "        self.wk = tf.keras.layers.Dense(d_model)\n",
    "        self.wv = tf.keras.layers.Dense(d_model)\n",
    "        \n",
    "        # WO 정의\n",
    "        # => Attention Heads들의 Concat결과에 곱해지는 층\n",
    "        self.dense = tf.keras.layers.Dense(d_model)\n",
    "    \n",
    "\n",
    "    def split_heads(self, inputs, batch_size):\n",
    "        '''\n",
    "        Q, K, V를 num_heads 수만큼 split하는 함수\n",
    "        \n",
    "        ex) query = (batch_size, seq_len, d_model) = (2, 4, 16)일때\n",
    "        num_heads = 4 이라면\n",
    "        => (batch_size, -1, num_heads, d_k) = (2, 1, 4, 4)로 reshape\n",
    "        ## => (batch_size, num_heads, 1, d_k)로 리턴 ##\n",
    "        \n",
    "        Return:\n",
    "        (batch_size, num_heads, seq_len, depth)\n",
    "        '''\n",
    "        inputs = tf.reshape(inputs, shape=(batch_size, -1, self.num_heads, self.depth))\n",
    "        return tf.transpose(inputs, perm=[0, 2, 1, 3])\n",
    "\n",
    "\n",
    "    def call(self, q, k, v):\n",
    "        q, k, v, mask = inputs['query'], inputs['key'], inputs['value'], inputs['mask']\n",
    "        batch_size = tf.shape(q)[0]\n",
    "     \n",
    "        # 1) Q, K, V 생성   \n",
    "        ## 인코더(k,v) - 디코더(q) 어텐션에서는 query 길이와 key, value길이가 다를 수 있다\n",
    "        query = self.wq(q)    # query : (batch_size, seq_len_q, d_model)\n",
    "        key = self.wk(k)      # key   : (batch_size, seq_len_k, d_model)\n",
    "        value = self.wv(v)    # value : (batch_size, seq_len_v, d_model)\n",
    "        \n",
    "        # 2) 헤드 나누기\n",
    "        query = self.split_heads(query, batch_size)    # query : (batch_size, num_heads, seq_len_q, depth)\n",
    "        key = self.split_heads(key, batch_size)        # key : (batch_size, num_heads, seq_len_k, depth)\n",
    "        value = self.split_heads(value, batch_size)    # value : (batch_size, num_heads, seq_len_v, depth)\n",
    "        \n",
    "        # 3) 스케일 닷 프로덕트 어텐션\n",
    "        # (batch_size, num_heads, seq_len_q, d_k)\n",
    "        scaled_attention, _ = scaledDotProductAttention(query, key, value, mask)\n",
    "        \n",
    "        # (batch_size, seq_len_q, num_heads, d_k) => ??\n",
    "        scaled_attention = tf.transpose(scaled_attention, perm=[0, 2, 1, 3])\n",
    "        \n",
    "        # 4) 헤드 연결\n",
    "        # (batch_size, seq_len_q, d_model)\n",
    "        concat_attention = tf.reshape(scaled_attention, shape=(batch_size, -1, self.d_model))\n",
    "        \n",
    "        # 5) WO에 해당하는 dense layer 통과\n",
    "        # (batch_size, seq_len_q, d_model)\n",
    "        output = self.dense(concat_attention)\n",
    "        \n",
    "        return output"
   ]
  },
  {
   "cell_type": "code",
   "execution_count": 9,
   "id": "ef68fca4",
   "metadata": {
    "ExecuteTime": {
     "end_time": "2023-03-06T14:25:22.732488Z",
     "start_time": "2023-03-06T14:25:22.703256Z"
    }
   },
   "outputs": [
    {
     "data": {
      "text/plain": [
       "<tf.Tensor: shape=(2, 4, 16), dtype=int32, numpy=\n",
       "array([[[  0,   1,   2,   3,   4,   5,   6,   7,   8,   9,  10,  11,\n",
       "          12,  13,  14,  15],\n",
       "        [ 16,  17,  18,  19,  20,  21,  22,  23,  24,  25,  26,  27,\n",
       "          28,  29,  30,  31],\n",
       "        [ 32,  33,  34,  35,  36,  37,  38,  39,  40,  41,  42,  43,\n",
       "          44,  45,  46,  47],\n",
       "        [ 48,  49,  50,  51,  52,  53,  54,  55,  56,  57,  58,  59,\n",
       "          60,  61,  62,  63]],\n",
       "\n",
       "       [[ 64,  65,  66,  67,  68,  69,  70,  71,  72,  73,  74,  75,\n",
       "          76,  77,  78,  79],\n",
       "        [ 80,  81,  82,  83,  84,  85,  86,  87,  88,  89,  90,  91,\n",
       "          92,  93,  94,  95],\n",
       "        [ 96,  97,  98,  99, 100, 101, 102, 103, 104, 105, 106, 107,\n",
       "         108, 109, 110, 111],\n",
       "        [112, 113, 114, 115, 116, 117, 118, 119, 120, 121, 122, 123,\n",
       "         124, 125, 126, 127]]])>"
      ]
     },
     "execution_count": 9,
     "metadata": {},
     "output_type": "execute_result"
    }
   ],
   "source": [
    "# split head와 scaled dot 과정에서 transpose perm을 해주는 이유?\n",
    "# => 아마 연산과정에서 병렬처리를 위해?\n",
    "# => 결과적으로 연산 후 처음 query와 같은 shape와 값들로 돌아온다\n",
    "import tensorflow as tf\n",
    "\n",
    "batch_size = 2\n",
    "seq_len = 4\n",
    "d_model = 16\n",
    "num_heads = 4\n",
    "\n",
    "temp = tf.constant(range(batch_size * seq_len * d_model))\n",
    "temp\n",
    "\n",
    "query = tf.reshape(temp, shape=(batch_size, seq_len, d_model))    # 128\n",
    "query\n",
    "\n",
    "s_query = tf.reshape(query, shape=(batch_size, -1, num_heads, d_model//num_heads))\n",
    "s_query\n",
    "\n",
    "trans_query = tf.transpose(s_query, perm=[0, 2, 1, 3])\n",
    "trans_query\n",
    "\n",
    "re_trans_query = tf.transpose(trans_query, perm=[0, 2, 1, 3])\n",
    "re_trans_query\n",
    "\n",
    "connect_query = tf.reshape(re_trans_query, shape=(batch_size, -1, d_model))\n",
    "connect_query\n"
   ]
  },
  {
   "cell_type": "markdown",
   "id": "73f2409f",
   "metadata": {},
   "source": [
    "### Padding Mask"
   ]
  },
  {
   "cell_type": "code",
   "execution_count": 10,
   "id": "a53945c5",
   "metadata": {
    "ExecuteTime": {
     "end_time": "2023-03-06T14:25:22.747761Z",
     "start_time": "2023-03-06T14:25:22.734861Z"
    }
   },
   "outputs": [],
   "source": [
    "def createPaddingMask(x):\n",
    "    mask = tf.cast(tf.math.equal(x, 0), tf.float32)    # tf.math.equal(x, 0): x가 0인 경우에는 1, 그렇지 않으면 0으로 변환\n",
    "    return mask[:, tf.newaxis, tf.newaxis, :]    # (batch_size, 1, 1, key의 문장길이)"
   ]
  },
  {
   "cell_type": "code",
   "execution_count": 11,
   "id": "5539ec3d",
   "metadata": {
    "ExecuteTime": {
     "end_time": "2023-03-06T14:25:22.778681Z",
     "start_time": "2023-03-06T14:25:22.748758Z"
    }
   },
   "outputs": [
    {
     "name": "stdout",
     "output_type": "stream",
     "text": [
      "tf.Tensor([[[[0. 0. 0. 1. 1.]]]], shape=(1, 1, 1, 5), dtype=float32)\n"
     ]
    }
   ],
   "source": [
    "# 패딩마스크 테스트\n",
    "print(createPaddingMask([[1, 21, 645, 0, 0]]))\n",
    "\n",
    "# MHA 부분에서 logit에 mask에 매우작은 수를 더해준다\n",
    "# padding mask를 만들어 매우 작은 음수값 -1e9를 곱해주고 이를 logit 행렬에 더해주어 마스킹 구현\n",
    "# if mask is not None:\n",
    "#     logits += (mask * -1e9)"
   ]
  },
  {
   "cell_type": "markdown",
   "id": "3c9c0ed2",
   "metadata": {},
   "source": [
    "### Position-wise Feed-Foward Networks"
   ]
  },
  {
   "cell_type": "code",
   "execution_count": 12,
   "id": "7d51ef94",
   "metadata": {
    "ExecuteTime": {
     "end_time": "2023-03-06T14:25:23.206245Z",
     "start_time": "2023-03-06T14:25:22.779678Z"
    }
   },
   "outputs": [
    {
     "ename": "NameError",
     "evalue": "name 'dff' is not defined",
     "output_type": "error",
     "traceback": [
      "\u001b[1;31m---------------------------------------------------------------------------\u001b[0m",
      "\u001b[1;31mNameError\u001b[0m                                 Traceback (most recent call last)",
      "Input \u001b[1;32mIn [12]\u001b[0m, in \u001b[0;36m<cell line: 2>\u001b[1;34m()\u001b[0m\n\u001b[0;32m      1\u001b[0m \u001b[38;5;66;03m# 논문에서 dff = 2048\u001b[39;00m\n\u001b[1;32m----> 2\u001b[0m outputs \u001b[38;5;241m=\u001b[39m tf\u001b[38;5;241m.\u001b[39mkeras\u001b[38;5;241m.\u001b[39mlayers\u001b[38;5;241m.\u001b[39mDense(units\u001b[38;5;241m=\u001b[39m\u001b[43mdff\u001b[49m, activation\u001b[38;5;241m=\u001b[39m\u001b[38;5;124m'\u001b[39m\u001b[38;5;124mrelu\u001b[39m\u001b[38;5;124m'\u001b[39m)(attention)\n\u001b[0;32m      3\u001b[0m outputs \u001b[38;5;241m=\u001b[39m tf\u001b[38;5;241m.\u001b[39mkeras\u001b[38;5;241m.\u001b[39mlayers\u001b[38;5;241m.\u001b[39mDense(units\u001b[38;5;241m=\u001b[39md_model)(outputs)\n",
      "\u001b[1;31mNameError\u001b[0m: name 'dff' is not defined"
     ]
    }
   ],
   "source": [
    "# 논문에서 dff = 2048\n",
    "outputs = tf.keras.layers.Dense(units=dff, activation='relu')(attention)\n",
    "outputs = tf.keras.layers.Dense(units=d_model)(outputs)\n",
    "# def FFN(dff, d_model):\n",
    "#     return tf.keras.Sequential([\n",
    "#         tf.keras.layers.Dense(units=dff, activation='relu'),\n",
    "#         tf.keras.layers.Dense(units=d_model)])"
   ]
  },
  {
   "cell_type": "markdown",
   "id": "6e6ef1d2",
   "metadata": {},
   "source": [
    "### Residual Connection & Layer Normalization\n",
    " - Residual connection\n",
    "     - sub층의 입력과 출력을 더하는 연결\n",
    "     - $H(x)= x + F(x)$\n",
    " - Layer Normalization\n",
    "     - $\\hat{x}_{i,k} = \\frac{x_{i,k} - \\mu_{i}}{\\sqrt{\\sigma^2_i + \\epsilon}}$\n",
    "     - $LayerNorm(x_i) = \\gamma \\hat{x}_i + \\beta$"
   ]
  },
  {
   "cell_type": "code",
   "execution_count": 13,
   "id": "559c3953",
   "metadata": {
    "ExecuteTime": {
     "end_time": "2023-03-06T14:25:43.484809Z",
     "start_time": "2023-03-06T14:25:43.471963Z"
    }
   },
   "outputs": [],
   "source": [
    "# attention = ...\n",
    "# outputs = tf.keras.layers.LayerNormalization(epsilon=1e-6)(attention + outputs)"
   ]
  },
  {
   "cell_type": "markdown",
   "id": "5e24ba9e",
   "metadata": {},
   "source": [
    "### EncoderLayer"
   ]
  },
  {
   "cell_type": "code",
   "execution_count": 14,
   "id": "b2a58957",
   "metadata": {
    "ExecuteTime": {
     "end_time": "2023-03-06T14:25:43.807083Z",
     "start_time": "2023-03-06T14:25:43.796051Z"
    }
   },
   "outputs": [],
   "source": [
    "# MHA - Dropout - Add&Norm - FFN - Dropout - ADD&Norm\n",
    "def encoder_layer(dff, d_model, num_heads, dropout, name='encoder_layer'):\n",
    "    inputs = tf.keras.Input(shape=(None, d_model), name='inputs')    # q, k, v 생성\n",
    "    \n",
    "    # 패딩마스크 사용\n",
    "    padding_mask = tf.keras.Input(shape=(1, 1, None), name='padding_mask')\n",
    "    \n",
    "    # 멀티헤드 어텐션 (첫번째 서브레이어)\n",
    "    attention = MultiHeadAttention(d_model, num_heads, name='attention')({'query': inputs, 'key': inputs, 'value': inputs, 'mask': padding_mask})\n",
    "    \n",
    "    # 드롭아웃, 잔차연결 + 정규화\n",
    "    output1 = tf.keras.layers.Dropout(rate=dropout)(attention)\n",
    "    output1 = tf.keras.layers.LayerNormalization(epsilon=1e-6)(attention + inputs)\n",
    "    \n",
    "    # FFN\n",
    "    output2 = tf.keras.layers.Dense(units=dff, activation='relu')(output1)\n",
    "    output2 = tf.keras.layers.Dense(units=d_model)(output2)\n",
    "    \n",
    "    # 드롭아웃, 잔차연결 + 정규화\n",
    "    outputs = tf.keras.layers.Dropout(rate=dropout)(output2)\n",
    "    outputs = tf.keras.layers.LayerNormalization(epsilon=1e-6)(output1 + outputs)\n",
    "    \n",
    "    return tf.keras.Model(inputs=[inputs, padding_mask], outputs=output2, name=name)"
   ]
  },
  {
   "cell_type": "markdown",
   "id": "2e0efceb",
   "metadata": {},
   "source": [
    "### Encoder"
   ]
  },
  {
   "cell_type": "code",
   "execution_count": 15,
   "id": "dfd133fc",
   "metadata": {
    "ExecuteTime": {
     "end_time": "2023-03-06T14:25:44.099994Z",
     "start_time": "2023-03-06T14:25:44.093670Z"
    }
   },
   "outputs": [],
   "source": [
    "def encoder(vocab_size, num_layers, dff, d_model, num_heads, dropout, name='encoder'):\n",
    "    inputs = tf.keras.Input(shape=(None,), name='input')\n",
    "    \n",
    "    # 인코더는 패딩마스크 사용\n",
    "    padding_mask = tf.keras.Input(shape=(1, 1, None), name='padding_mask')\n",
    "    \n",
    "    # 포지셔널 인코딩 + 드롭아웃\n",
    "    embeddings = tf.keras.layers.Embedding(vocab_size, d_model)(inputs)\n",
    "    embeddings *= tf.math.sqrt(tf.cast(d_model, tf.float32))\n",
    "    embeddings = PositionalEncoding(vocab_size, d_model)(embeddings)\n",
    "    outputs = tf.keras.layers.Dropout(rate=dropout)(embeddings)\n",
    "    \n",
    "    # 인코더 쌓기 num_layers수 만큼\n",
    "    for i in range(num_layers):\n",
    "        outputs = encoder_layer(dff=dff, d_model=d_model, num_heads=num_heads, dropout=dropout, name='encoder_layer_{}'.format(i))([outputs, padding_mask])\n",
    "        \n",
    "    return tf.keras.Model(inputs=[inputs, padding_mask], outputs=outputs, name=name)"
   ]
  },
  {
   "cell_type": "markdown",
   "id": "c2529a63",
   "metadata": {},
   "source": [
    "### Look Ahead Mask"
   ]
  },
  {
   "cell_type": "code",
   "execution_count": 16,
   "id": "03de75d0",
   "metadata": {
    "ExecuteTime": {
     "end_time": "2023-03-06T14:25:44.407583Z",
     "start_time": "2023-03-06T14:25:44.388218Z"
    }
   },
   "outputs": [],
   "source": [
    "# 룩 어헤드 마스크\n",
    "def createLookAheadMask(x):\n",
    "    seq_len = tf.shape(x)[1]\n",
    "    look_ahead_mask = 1 - tf.linalg.band_part(tf.ones((seq_len, seq_len)), -1, 0)\n",
    "    padding_mask = createPaddingMask(x)\n",
    "    return tf.maximum(look_ahead_mask, padding_mask)"
   ]
  },
  {
   "cell_type": "code",
   "execution_count": 17,
   "id": "a359b139",
   "metadata": {
    "ExecuteTime": {
     "end_time": "2023-03-06T14:25:44.575469Z",
     "start_time": "2023-03-06T14:25:44.549228Z"
    }
   },
   "outputs": [
    {
     "name": "stdout",
     "output_type": "stream",
     "text": [
      "tf.Tensor(\n",
      "[[[[0. 1. 1. 1. 1.]\n",
      "   [0. 0. 1. 1. 1.]\n",
      "   [0. 0. 1. 1. 1.]\n",
      "   [0. 0. 1. 0. 1.]\n",
      "   [0. 0. 1. 0. 0.]]]], shape=(1, 1, 5, 5), dtype=float32)\n"
     ]
    }
   ],
   "source": [
    "print(createLookAheadMask([[1, 2, 0, 4, 5]]))"
   ]
  },
  {
   "cell_type": "markdown",
   "id": "161f935c",
   "metadata": {},
   "source": [
    "### DecoderLayer"
   ]
  },
  {
   "cell_type": "code",
   "execution_count": 18,
   "id": "9c8d05e8",
   "metadata": {
    "ExecuteTime": {
     "end_time": "2023-03-06T14:25:44.865602Z",
     "start_time": "2023-03-06T14:25:44.843661Z"
    }
   },
   "outputs": [],
   "source": [
    "def decoder_layer(dff, d_model, num_heads, dropout, name='decoder_layer'):\n",
    "    inputs = tf.keras.Input(shape=(None, d_model), name='inputs')\n",
    "    enc_outputs = tf.keras.Input(shape=(None, d_model), name='encoder_outputs')\n",
    "    \n",
    "    # 룩어헤드 & 패딩 마스크\n",
    "    look_ahead_mask = tf.keras.Input(shape=(1, None, None), name='look_ahead_mask')    # for 첫번째 서브층\n",
    "    padding_mask = tf.keras.Input(shape=(1, 1, None), name='padding_mask')    # for 두번째 서브층\n",
    "    \n",
    "    # 멀티 헤드 어텐션 (첫번째 서브층 / 마스크드 셀프 어텐션)\n",
    "    attention1 = MultiHeadAttention(d_model, num_heads, name='attention_1')(inputs={'query': inputs, 'key': inputs, 'value': inputs, 'mask': look_ahead_mask})\n",
    "    \n",
    "    # 잔차연결 & 정규화\n",
    "    attention1 = tf.keras.layers.LayerNormalization(epsilon=1e-6)(attention1 + inputs)\n",
    "    \n",
    "    # 멀티헤드 어텐션 (두번째 서브층 / 디코더-인코더 어텐션)\n",
    "    attention2 = MultiHeadAttention(d_model, num_heads, name='attention_2')(inputs={'query': attention1, 'key': enc_outputs, 'value': enc_outputs, 'mask': padding_mask})    # query != key == value\n",
    "    \n",
    "    # 드롭아웃 + 잔차열결 & 정규화\n",
    "    attention2 = tf.keras.layers.Dropout(rate=dropout)(attention2)\n",
    "    attention2 = tf.keras.layers.LayerNormalization(epsilon=1e-6)(attention2 + attention1)\n",
    "    \n",
    "    # FFN (세번째 서브층)\n",
    "    outputs = tf.keras.layers.Dense(units=dff, activation='relu')(attention2)\n",
    "    outputs = tf.keras.layers.Dense(units=d_model)(outputs)\n",
    "    \n",
    "    # 드롭아웃 + 잔차연결 & 정규화\n",
    "    outputs = tf.keras.layers.Dropout(rate=dropout)(outputs)\n",
    "    outputs = tf.keras.layers.LayerNormalization(epsilon=1e-6)(outputs + attention2)\n",
    "    \n",
    "    return tf.keras.Model(inputs=[inputs, enc_outputs, look_ahead_mask, padding_mask], outputs=outputs, name=name)"
   ]
  },
  {
   "cell_type": "markdown",
   "id": "9383e847",
   "metadata": {},
   "source": [
    "### Decoder"
   ]
  },
  {
   "cell_type": "code",
   "execution_count": 19,
   "id": "ce90c774",
   "metadata": {
    "ExecuteTime": {
     "end_time": "2023-03-06T14:25:45.298137Z",
     "start_time": "2023-03-06T14:25:45.287963Z"
    }
   },
   "outputs": [],
   "source": [
    "def decoder(vocab_size, num_layers, dff, d_model, num_heads, dropout, name='decoder'):\n",
    "    inputs = tf.keras.Input(shape=(None,), name='inputs')\n",
    "    enc_outputs = tf.keras.Input(shape=(None, d_model), name='encoder_outputs')\n",
    "    \n",
    "    # 룩어헤드 마스크, 패딩마스크\n",
    "    look_ahead_mask = tf.keras.Input(shape=(1, None, None), name='look_ahead_mask')\n",
    "    padding_mask = tf.keras.Input(shape=(1, 1, None), name='padding_mask')\n",
    "    \n",
    "    # 포지셔널 인코딩 + 드롭아웃\n",
    "    embeddings = tf.keras.layers.Embedding(vocab_size, d_model)(inputs)\n",
    "    embeddings *= tf.math.sqrt(tf.cast(d_model, tf.float32))\n",
    "    embeddings = PositionalEncoding(vocab_size, d_model)(embeddings)\n",
    "    outputs = tf.keras.layers.Dropout(rate=dropout)(embeddings)\n",
    "    \n",
    "    # 디코더 쌓기. num_layers만큼\n",
    "    for i in range(num_layers):\n",
    "        outputs = decoder_layer(dff=dff, d_model=d_model, num_heads=num_heads, dropout=dropout, name=f'decoder_layer_{i}',)(inputs=[outputs, enc_outputs, look_ahead_mask, padding_mask])\n",
    "        \n",
    "    return tf.keras.Model(inputs=[inputs, enc_outputs, look_ahead_mask, padding_mask], outputs=outputs, name=name)"
   ]
  },
  {
   "cell_type": "markdown",
   "id": "c5dec35e",
   "metadata": {},
   "source": [
    "### Transformer Model"
   ]
  },
  {
   "cell_type": "code",
   "execution_count": 20,
   "id": "8427df4d",
   "metadata": {
    "ExecuteTime": {
     "end_time": "2023-03-06T14:25:45.878105Z",
     "start_time": "2023-03-06T14:25:45.866111Z"
    }
   },
   "outputs": [],
   "source": [
    "def transformer(vocab_size, num_layers, dff, d_model, num_heads, dropout, name='transformer'):\n",
    "    # 인코더 입력\n",
    "    inputs = tf.keras.Input(shape=(None,), name='inputs')\n",
    "    \n",
    "    # 디코더 입력\n",
    "    dec_inputs = tf.keras.Input(shape=(None,), name='dec_inputs')\n",
    "    \n",
    "    # 인코더 패딩마스크\n",
    "    enc_padding_mask = tf.keras.layers.Lambda(createPaddingMask, output_shape=(1, 1, None), name='enc_padding_mask')(inputs)\n",
    "    \n",
    "    # 디코더 룩어헤드 마스크 (for 첫번째 서브층)\n",
    "    look_ahead_mask = tf.keras.layers.Lambda(createLookAheadMask, output_shape=(1, None, None,), name='look_ahead_mask')(dec_inputs)\n",
    "    \n",
    "    # 디코더 패딩마스크 (for 두번째 서브층)\n",
    "    dec_padding_mask = tf.keras.layers.Lambda(createPaddingMask, output_shape=(1, 1, None), name='dec_padding_mask')(inputs)\n",
    "    \n",
    "    # 인코더의 출력 -> 디코더로 전달\n",
    "    enc_outputs = encoder(vocab_size=vocab_size, num_layers=num_layers, dff=dff, d_model=d_model, num_heads=num_heads, dropout=dropout)(inputs=[inputs, enc_padding_mask]) # 인코더 입력: [문장, 패딩마스크]\n",
    "    \n",
    "    # 디코더의 출력 -> 출력층으로 전달\n",
    "    # 디코더 입력 : [디코더 입력, 인코더 출력, 룩어헤드 마스크, 디코더 패딩마스크]\n",
    "    dec_outputs = decoder(vocab_size=vocab_size, num_layers=num_layers, dff=dff, d_model=d_model, num_heads=num_heads, dropout=dropout)(inputs=[dec_inputs, enc_outputs, look_ahead_mask, dec_padding_mask])\n",
    "\n",
    "    outputs = tf.keras.layers.Dense(units=vocab_size, name='outputs')(dec_outputs)\n",
    "    \n",
    "    return tf.keras.Model(inputs=[inputs, dec_inputs], outputs=outputs, name=name)"
   ]
  },
  {
   "cell_type": "markdown",
   "id": "f5898dca",
   "metadata": {},
   "source": [
    "### Hyperparameter"
   ]
  },
  {
   "cell_type": "code",
   "execution_count": 21,
   "id": "0158633c",
   "metadata": {
    "ExecuteTime": {
     "end_time": "2023-03-06T14:25:52.216887Z",
     "start_time": "2023-03-06T14:25:46.402050Z"
    }
   },
   "outputs": [],
   "source": [
    "# vocab_size는 임의로 9000\n",
    "small_transformer = transformer(\n",
    "    vocab_size = 9000,\n",
    "    num_layers = 4,\n",
    "    dff = 512,\n",
    "    d_model = 128,\n",
    "    num_heads = 4,\n",
    "    dropout = 0.3,\n",
    "    name=\"small_transformer\")"
   ]
  },
  {
   "cell_type": "markdown",
   "id": "d79af3fb",
   "metadata": {},
   "source": [
    "### Loss Function\n",
    " - 다중 클래스 분류 문제 -> sparse categorical crossentropy"
   ]
  },
  {
   "cell_type": "code",
   "execution_count": 29,
   "id": "48e58ccc",
   "metadata": {
    "ExecuteTime": {
     "end_time": "2023-03-17T11:01:47.511819Z",
     "start_time": "2023-03-17T11:01:47.498860Z"
    }
   },
   "outputs": [],
   "source": [
    "def loss_function(y_true, y_pred):\n",
    "    y_true = tf.reshape(y_true, shape=(-1, MAX_LENGTH - 1))\n",
    "    \n",
    "    # -log(onehot(y_true)) * y_pred\n",
    "    loss = tf.keras.losses.SparseCategoricalCrossentropy(from_logits=True, reduction='none')(y_true, y_pred)    # \"reduction: none\" return tensor\n",
    "    \n",
    "    mask = tf.cast(tf.not_equal(y_true, 0), tf.float32)\n",
    "    loss = tf.multiply(loss, mask)    # elementwise multiply\n",
    "    \n",
    "    return tf.reduce_mean(loss)    # reduce_mean: 전체원소의 합을 개수로 나눈값 리턴"
   ]
  },
  {
   "cell_type": "markdown",
   "id": "e0bc3d55",
   "metadata": {},
   "source": [
    "### Training\n",
    " - 트랜스포머는 사용자가 정한 단계(warmup_step)까지는 학습률을 증가시켰다가 단계에 이르면 학습률을 점차적으로 떨어트리는 방식을 사용\n",
    " - step < warmup_steps: 학습률 선형적으로 증가\n",
    " - step >= warmup_steps: 학습률 감소\n",
    " - Learning rate warmup이란?\n",
    "     - 작은 learning rate로 시작해서 학습 과정이 안정되면 regular learning rate로 사용하는 방법\n",
    "     - 초기 training시 parameter들이 보통 random initialized 되어있어 final solution과 차이가 있다. 이때 너무 큰 learning rate사용시 numerical instability가 발생가능\n",
    "     - [Bag of Tricks for Image Classification with Convolutional Neural Networks (2018)](https://arxiv.org/abs/1812.01187)"
   ]
  },
  {
   "cell_type": "code",
   "execution_count": 38,
   "id": "67fb11ef",
   "metadata": {
    "ExecuteTime": {
     "end_time": "2023-03-06T16:39:52.769872Z",
     "start_time": "2023-03-06T16:39:52.759874Z"
    }
   },
   "outputs": [],
   "source": [
    "# step: optimizer가 매개변수를 업데이트하는 횟수\n",
    "class CustomSchedule(tf.keras.optimizers.schedules.LearningRateSchedule):\n",
    "    def __init__(self, d_model, warmup_steps=4000):\n",
    "        super(CustomSchedule, self).__init__()\n",
    "        self.d_model = tf.cast(d_model, tf.float32)\n",
    "        self.warmup_steps = warmup_steps\n",
    "\n",
    "    def __call__(self, step):\n",
    "        arg1 = tf.math.rsqrt(step)    # reciprocal of square root\n",
    "        arg2 = step * (self.warmup_steps**-1.5)\n",
    "\n",
    "        return tf.math.rsqrt(self.d_model) * tf.math.minimum(arg1, arg2)"
   ]
  },
  {
   "cell_type": "code",
   "execution_count": 39,
   "id": "5a25bfd1",
   "metadata": {
    "ExecuteTime": {
     "end_time": "2023-03-06T16:39:53.091399Z",
     "start_time": "2023-03-06T16:39:52.895272Z"
    }
   },
   "outputs": [
    {
     "data": {
      "text/plain": [
       "Text(0.5, 0, 'Train Step')"
      ]
     },
     "execution_count": 39,
     "metadata": {},
     "output_type": "execute_result"
    },
    {
     "data": {
      "image/png": "[encoded data removed]",
      "text/plain": [
       "<Figure size 432x288 with 1 Axes>"
      ]
     },
     "metadata": {
      "needs_background": "light"
     },
     "output_type": "display_data"
    }
   ],
   "source": [
    "sample_learning_rate = CustomSchedule(d_model=128)\n",
    "\n",
    "plt.plot(sample_learning_rate(tf.range(200000, dtype=tf.float32)))\n",
    "plt.ylabel(\"Learning Rate\")\n",
    "plt.xlabel(\"Train Step\")"
   ]
  },
  {
   "cell_type": "code",
   "execution_count": null,
   "id": "97f4f497",
   "metadata": {},
   "outputs": [],
   "source": []
  }
 ],
 "metadata": {
  "hide_input": false,
  "kernelspec": {
   "display_name": "Python 3 (ipykernel)",
   "language": "python",
   "name": "python3"
  },
  "language_info": {
   "codemirror_mode": {
    "name": "ipython",
    "version": 3
   },
   "file_extension": ".py",
   "mimetype": "text/x-python",
   "name": "python",
   "nbconvert_exporter": "python",
   "pygments_lexer": "ipython3",
   "version": "3.9.12"
  },
  "latex_envs": {
   "LaTeX_envs_menu_present": true,
   "autoclose": false,
   "autocomplete": true,
   "bibliofile": "biblio.bib",
   "cite_by": "apalike",
   "current_citInitial": 1,
   "eqLabelWithNumbers": true,
   "eqNumInitial": 1,
   "hotkeys": {
    "equation": "Ctrl-E",
    "itemize": "Ctrl-I"
   },
   "labels_anchors": false,
   "latex_user_defs": false,
   "report_style_numbering": false,
   "user_envs_cfg": false
  },
  "toc": {
   "base_numbering": 1,
   "nav_menu": {},
   "number_sections": false,
   "sideBar": true,
   "skip_h1_title": false,
   "title_cell": "Table of Contents",
   "title_sidebar": "Contents",
   "toc_cell": false,
   "toc_position": {},
   "toc_section_display": true,
   "toc_window_display": false
  },
  "varInspector": {
   "cols": {
    "lenName": 16,
    "lenType": 16,
    "lenVar": 40
   },
   "kernels_config": {
    "python": {
     "delete_cmd_postfix": "",
     "delete_cmd_prefix": "del ",
     "library": "var_list.py",
     "varRefreshCmd": "print(var_dic_list())"
    },
    "r": {
     "delete_cmd_postfix": ") ",
     "delete_cmd_prefix": "rm(",
     "library": "var_list.r",
     "varRefreshCmd": "cat(var_dic_list()) "
    }
   },
   "types_to_exclude": [
    "module",
    "function",
    "builtin_function_or_method",
    "instance",
    "_Feature"
   ],
   "window_display": false
  }
 },
 "nbformat": 4,
 "nbformat_minor": 5
}
